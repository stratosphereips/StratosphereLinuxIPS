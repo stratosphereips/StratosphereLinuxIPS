{
 "cells": [
  {
   "cell_type": "code",
   "execution_count": null,
   "id": "a0e9265f",
   "metadata": {},
   "outputs": [],
   "source": [
    "# imports\n",
    "\n",
    "# dataset loading\n",
    "# Notebook helper functions for using ZeekDataset\n",
    "# Save this code into a notebook cell (or a .py file) and run it.\n",
    "\n",
    "\n",
    "\n",
    "# Try to import ZeekDataset. If it's defined in the notebook, this import can be omitted.\n",
    "from zeek_dataset import find_and_load_datasets, sample_10_from_each_dataset\n",
    "\n"
   ]
  },
  {
   "cell_type": "code",
   "execution_count": null,
   "id": "71a20e02",
   "metadata": {},
   "outputs": [],
   "source": [
    "# paths, constants\n",
    "root = \"./dataset-private/\"\n",
    "validation_split=0.1\n",
    "model_save_path = \"./model.pkl\"\n",
    "experiment_name = \"exp1\"\n"
   ]
  },
  {
   "cell_type": "markdown",
   "id": "5a11bd2b",
   "metadata": {},
   "source": [
    "## Loading, init"
   ]
  },
  {
   "cell_type": "code",
   "execution_count": null,
   "id": "3fa3055b",
   "metadata": {},
   "outputs": [],
   "source": [
    "loaders = find_and_load_datasets(root, prefix_regex=r\"^\\d{3}\", data_subdir=\"data\")\n",
    "print(\"Found datasets:\", list(loaders.keys()))\n",
    "results = sample_10_from_each_dataset(loaders, seed=42)\n",
    "for ds_name, info in results.items():\n",
    "    print(f\"Dataset: {ds_name}  (file used: {info['file']})  samples: {len(info['samples'])}\")\n",
    "    display(info['df'])"
   ]
  },
  {
   "cell_type": "code",
   "execution_count": null,
   "id": "e8baadcf",
   "metadata": {},
   "outputs": [],
   "source": [
    "# model init, loading from file (pickle)"
   ]
  },
  {
   "cell_type": "markdown",
   "id": "ea3b58f1",
   "metadata": {},
   "source": [
    "## Pipeline"
   ]
  },
  {
   "cell_type": "code",
   "execution_count": null,
   "id": "11037f6e",
   "metadata": {},
   "outputs": [
    {
     "ename": "",
     "evalue": "",
     "output_type": "error",
     "traceback": [
      "\u001b[1;31mRunning cells with 'slips_base (Python 3.10.18)' requires the ipykernel package.\n",
      "\u001b[1;31m<a href='command:jupyter.createPythonEnvAndSelectController'>Create a Python Environment</a> with the required packages.\n",
      "\u001b[1;31mOr install 'ipykernel' using the command: 'conda install -n slips_base ipykernel --update-deps --force-reinstall'"
     ]
    }
   ],
   "source": [
    "\n"
   ]
  },
  {
   "cell_type": "code",
   "execution_count": null,
   "id": "800b0b85",
   "metadata": {},
   "outputs": [],
   "source": [
    "# final test?"
   ]
  },
  {
   "cell_type": "markdown",
   "id": "3d0389df",
   "metadata": {},
   "source": [
    "## Reporting"
   ]
  },
  {
   "cell_type": "code",
   "execution_count": null,
   "id": "75ff904b",
   "metadata": {},
   "outputs": [],
   "source": [
    "#save results, process reports into files!"
   ]
  }
 ],
 "metadata": {
  "kernelspec": {
   "display_name": "slips_base",
   "language": "python",
   "name": "python3"
  },
  "language_info": {
   "name": "python",
   "version": "3.10.18"
  }
 },
 "nbformat": 4,
 "nbformat_minor": 5
}
